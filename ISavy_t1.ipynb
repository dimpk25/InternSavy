{
 "cells": [
  {
   "cell_type": "markdown",
   "id": "aa678289",
   "metadata": {},
   "source": [
    "# Use classification technique for prediction of Graduate Admissionsfrom an Indian perspective"
   ]
  },
  {
   "cell_type": "code",
   "execution_count": 10,
   "id": "0890eb1a",
   "metadata": {},
   "outputs": [],
   "source": [
    "import numpy as np\n",
    "import pandas as pd\n",
    "import seaborn as sns\n",
    "import matplotlib.pyplot as plt"
   ]
  },
  {
   "cell_type": "code",
   "execution_count": 2,
   "id": "74b2c563",
   "metadata": {},
   "outputs": [
    {
     "data": {
      "text/html": [
       "<div>\n",
       "<style scoped>\n",
       "    .dataframe tbody tr th:only-of-type {\n",
       "        vertical-align: middle;\n",
       "    }\n",
       "\n",
       "    .dataframe tbody tr th {\n",
       "        vertical-align: top;\n",
       "    }\n",
       "\n",
       "    .dataframe thead th {\n",
       "        text-align: right;\n",
       "    }\n",
       "</style>\n",
       "<table border=\"1\" class=\"dataframe\">\n",
       "  <thead>\n",
       "    <tr style=\"text-align: right;\">\n",
       "      <th></th>\n",
       "      <th>Serial No.</th>\n",
       "      <th>GRE Score</th>\n",
       "      <th>TOEFL Score</th>\n",
       "      <th>University Rating</th>\n",
       "      <th>SOP</th>\n",
       "      <th>LOR</th>\n",
       "      <th>CGPA</th>\n",
       "      <th>Research</th>\n",
       "      <th>Chance of Admit</th>\n",
       "    </tr>\n",
       "  </thead>\n",
       "  <tbody>\n",
       "    <tr>\n",
       "      <th>0</th>\n",
       "      <td>1</td>\n",
       "      <td>337</td>\n",
       "      <td>118</td>\n",
       "      <td>4</td>\n",
       "      <td>4.5</td>\n",
       "      <td>4.5</td>\n",
       "      <td>9.65</td>\n",
       "      <td>1</td>\n",
       "      <td>0.92</td>\n",
       "    </tr>\n",
       "    <tr>\n",
       "      <th>1</th>\n",
       "      <td>2</td>\n",
       "      <td>324</td>\n",
       "      <td>107</td>\n",
       "      <td>4</td>\n",
       "      <td>4.0</td>\n",
       "      <td>4.5</td>\n",
       "      <td>8.87</td>\n",
       "      <td>1</td>\n",
       "      <td>0.76</td>\n",
       "    </tr>\n",
       "    <tr>\n",
       "      <th>2</th>\n",
       "      <td>3</td>\n",
       "      <td>316</td>\n",
       "      <td>104</td>\n",
       "      <td>3</td>\n",
       "      <td>3.0</td>\n",
       "      <td>3.5</td>\n",
       "      <td>8.00</td>\n",
       "      <td>1</td>\n",
       "      <td>0.72</td>\n",
       "    </tr>\n",
       "    <tr>\n",
       "      <th>3</th>\n",
       "      <td>4</td>\n",
       "      <td>322</td>\n",
       "      <td>110</td>\n",
       "      <td>3</td>\n",
       "      <td>3.5</td>\n",
       "      <td>2.5</td>\n",
       "      <td>8.67</td>\n",
       "      <td>1</td>\n",
       "      <td>0.80</td>\n",
       "    </tr>\n",
       "    <tr>\n",
       "      <th>4</th>\n",
       "      <td>5</td>\n",
       "      <td>314</td>\n",
       "      <td>103</td>\n",
       "      <td>2</td>\n",
       "      <td>2.0</td>\n",
       "      <td>3.0</td>\n",
       "      <td>8.21</td>\n",
       "      <td>0</td>\n",
       "      <td>0.65</td>\n",
       "    </tr>\n",
       "    <tr>\n",
       "      <th>...</th>\n",
       "      <td>...</td>\n",
       "      <td>...</td>\n",
       "      <td>...</td>\n",
       "      <td>...</td>\n",
       "      <td>...</td>\n",
       "      <td>...</td>\n",
       "      <td>...</td>\n",
       "      <td>...</td>\n",
       "      <td>...</td>\n",
       "    </tr>\n",
       "    <tr>\n",
       "      <th>395</th>\n",
       "      <td>396</td>\n",
       "      <td>324</td>\n",
       "      <td>110</td>\n",
       "      <td>3</td>\n",
       "      <td>3.5</td>\n",
       "      <td>3.5</td>\n",
       "      <td>9.04</td>\n",
       "      <td>1</td>\n",
       "      <td>0.82</td>\n",
       "    </tr>\n",
       "    <tr>\n",
       "      <th>396</th>\n",
       "      <td>397</td>\n",
       "      <td>325</td>\n",
       "      <td>107</td>\n",
       "      <td>3</td>\n",
       "      <td>3.0</td>\n",
       "      <td>3.5</td>\n",
       "      <td>9.11</td>\n",
       "      <td>1</td>\n",
       "      <td>0.84</td>\n",
       "    </tr>\n",
       "    <tr>\n",
       "      <th>397</th>\n",
       "      <td>398</td>\n",
       "      <td>330</td>\n",
       "      <td>116</td>\n",
       "      <td>4</td>\n",
       "      <td>5.0</td>\n",
       "      <td>4.5</td>\n",
       "      <td>9.45</td>\n",
       "      <td>1</td>\n",
       "      <td>0.91</td>\n",
       "    </tr>\n",
       "    <tr>\n",
       "      <th>398</th>\n",
       "      <td>399</td>\n",
       "      <td>312</td>\n",
       "      <td>103</td>\n",
       "      <td>3</td>\n",
       "      <td>3.5</td>\n",
       "      <td>4.0</td>\n",
       "      <td>8.78</td>\n",
       "      <td>0</td>\n",
       "      <td>0.67</td>\n",
       "    </tr>\n",
       "    <tr>\n",
       "      <th>399</th>\n",
       "      <td>400</td>\n",
       "      <td>333</td>\n",
       "      <td>117</td>\n",
       "      <td>4</td>\n",
       "      <td>5.0</td>\n",
       "      <td>4.0</td>\n",
       "      <td>9.66</td>\n",
       "      <td>1</td>\n",
       "      <td>0.95</td>\n",
       "    </tr>\n",
       "  </tbody>\n",
       "</table>\n",
       "<p>400 rows × 9 columns</p>\n",
       "</div>"
      ],
      "text/plain": [
       "     Serial No.  GRE Score  TOEFL Score  University Rating  SOP  LOR   CGPA   \n",
       "0             1        337          118                  4  4.5   4.5  9.65  \\\n",
       "1             2        324          107                  4  4.0   4.5  8.87   \n",
       "2             3        316          104                  3  3.0   3.5  8.00   \n",
       "3             4        322          110                  3  3.5   2.5  8.67   \n",
       "4             5        314          103                  2  2.0   3.0  8.21   \n",
       "..          ...        ...          ...                ...  ...   ...   ...   \n",
       "395         396        324          110                  3  3.5   3.5  9.04   \n",
       "396         397        325          107                  3  3.0   3.5  9.11   \n",
       "397         398        330          116                  4  5.0   4.5  9.45   \n",
       "398         399        312          103                  3  3.5   4.0  8.78   \n",
       "399         400        333          117                  4  5.0   4.0  9.66   \n",
       "\n",
       "     Research  Chance of Admit   \n",
       "0           1              0.92  \n",
       "1           1              0.76  \n",
       "2           1              0.72  \n",
       "3           1              0.80  \n",
       "4           0              0.65  \n",
       "..        ...               ...  \n",
       "395         1              0.82  \n",
       "396         1              0.84  \n",
       "397         1              0.91  \n",
       "398         0              0.67  \n",
       "399         1              0.95  \n",
       "\n",
       "[400 rows x 9 columns]"
      ]
     },
     "execution_count": 2,
     "metadata": {},
     "output_type": "execute_result"
    }
   ],
   "source": [
    "df = pd.read_csv(r'D:\\InternSavy\\Admission_Predict.csv')\n",
    "df"
   ]
  },
  {
   "cell_type": "code",
   "execution_count": 3,
   "id": "d0bd9351",
   "metadata": {},
   "outputs": [
    {
     "data": {
      "text/plain": [
       "(400, 9)"
      ]
     },
     "execution_count": 3,
     "metadata": {},
     "output_type": "execute_result"
    }
   ],
   "source": [
    "df.shape"
   ]
  },
  {
   "cell_type": "code",
   "execution_count": 4,
   "id": "6f5c73ab",
   "metadata": {},
   "outputs": [
    {
     "data": {
      "text/plain": [
       "Index(['Serial No.', 'GRE Score', 'TOEFL Score', 'University Rating', 'SOP',\n",
       "       'LOR ', 'CGPA', 'Research', 'Chance of Admit '],\n",
       "      dtype='object')"
      ]
     },
     "execution_count": 4,
     "metadata": {},
     "output_type": "execute_result"
    }
   ],
   "source": [
    "df.columns"
   ]
  },
  {
   "cell_type": "code",
   "execution_count": 5,
   "id": "c2e39a0f",
   "metadata": {},
   "outputs": [
    {
     "name": "stdout",
     "output_type": "stream",
     "text": [
      "<class 'pandas.core.frame.DataFrame'>\n",
      "RangeIndex: 400 entries, 0 to 399\n",
      "Data columns (total 9 columns):\n",
      " #   Column             Non-Null Count  Dtype  \n",
      "---  ------             --------------  -----  \n",
      " 0   Serial No.         400 non-null    int64  \n",
      " 1   GRE Score          400 non-null    int64  \n",
      " 2   TOEFL Score        400 non-null    int64  \n",
      " 3   University Rating  400 non-null    int64  \n",
      " 4   SOP                400 non-null    float64\n",
      " 5   LOR                400 non-null    float64\n",
      " 6   CGPA               400 non-null    float64\n",
      " 7   Research           400 non-null    int64  \n",
      " 8   Chance of Admit    400 non-null    float64\n",
      "dtypes: float64(4), int64(5)\n",
      "memory usage: 28.2 KB\n"
     ]
    }
   ],
   "source": [
    "df.info()"
   ]
  },
  {
   "cell_type": "code",
   "execution_count": 6,
   "id": "963f521c",
   "metadata": {},
   "outputs": [
    {
     "data": {
      "text/html": [
       "<div>\n",
       "<style scoped>\n",
       "    .dataframe tbody tr th:only-of-type {\n",
       "        vertical-align: middle;\n",
       "    }\n",
       "\n",
       "    .dataframe tbody tr th {\n",
       "        vertical-align: top;\n",
       "    }\n",
       "\n",
       "    .dataframe thead th {\n",
       "        text-align: right;\n",
       "    }\n",
       "</style>\n",
       "<table border=\"1\" class=\"dataframe\">\n",
       "  <thead>\n",
       "    <tr style=\"text-align: right;\">\n",
       "      <th></th>\n",
       "      <th>Serial No.</th>\n",
       "      <th>GRE Score</th>\n",
       "      <th>TOEFL Score</th>\n",
       "      <th>University Rating</th>\n",
       "      <th>SOP</th>\n",
       "      <th>LOR</th>\n",
       "      <th>CGPA</th>\n",
       "      <th>Research</th>\n",
       "      <th>Chance of Admit</th>\n",
       "    </tr>\n",
       "  </thead>\n",
       "  <tbody>\n",
       "    <tr>\n",
       "      <th>count</th>\n",
       "      <td>400.000000</td>\n",
       "      <td>400.000000</td>\n",
       "      <td>400.000000</td>\n",
       "      <td>400.000000</td>\n",
       "      <td>400.000000</td>\n",
       "      <td>400.000000</td>\n",
       "      <td>400.000000</td>\n",
       "      <td>400.000000</td>\n",
       "      <td>400.000000</td>\n",
       "    </tr>\n",
       "    <tr>\n",
       "      <th>mean</th>\n",
       "      <td>200.500000</td>\n",
       "      <td>316.807500</td>\n",
       "      <td>107.410000</td>\n",
       "      <td>3.087500</td>\n",
       "      <td>3.400000</td>\n",
       "      <td>3.452500</td>\n",
       "      <td>8.598925</td>\n",
       "      <td>0.547500</td>\n",
       "      <td>0.724350</td>\n",
       "    </tr>\n",
       "    <tr>\n",
       "      <th>std</th>\n",
       "      <td>115.614301</td>\n",
       "      <td>11.473646</td>\n",
       "      <td>6.069514</td>\n",
       "      <td>1.143728</td>\n",
       "      <td>1.006869</td>\n",
       "      <td>0.898478</td>\n",
       "      <td>0.596317</td>\n",
       "      <td>0.498362</td>\n",
       "      <td>0.142609</td>\n",
       "    </tr>\n",
       "    <tr>\n",
       "      <th>min</th>\n",
       "      <td>1.000000</td>\n",
       "      <td>290.000000</td>\n",
       "      <td>92.000000</td>\n",
       "      <td>1.000000</td>\n",
       "      <td>1.000000</td>\n",
       "      <td>1.000000</td>\n",
       "      <td>6.800000</td>\n",
       "      <td>0.000000</td>\n",
       "      <td>0.340000</td>\n",
       "    </tr>\n",
       "    <tr>\n",
       "      <th>25%</th>\n",
       "      <td>100.750000</td>\n",
       "      <td>308.000000</td>\n",
       "      <td>103.000000</td>\n",
       "      <td>2.000000</td>\n",
       "      <td>2.500000</td>\n",
       "      <td>3.000000</td>\n",
       "      <td>8.170000</td>\n",
       "      <td>0.000000</td>\n",
       "      <td>0.640000</td>\n",
       "    </tr>\n",
       "    <tr>\n",
       "      <th>50%</th>\n",
       "      <td>200.500000</td>\n",
       "      <td>317.000000</td>\n",
       "      <td>107.000000</td>\n",
       "      <td>3.000000</td>\n",
       "      <td>3.500000</td>\n",
       "      <td>3.500000</td>\n",
       "      <td>8.610000</td>\n",
       "      <td>1.000000</td>\n",
       "      <td>0.730000</td>\n",
       "    </tr>\n",
       "    <tr>\n",
       "      <th>75%</th>\n",
       "      <td>300.250000</td>\n",
       "      <td>325.000000</td>\n",
       "      <td>112.000000</td>\n",
       "      <td>4.000000</td>\n",
       "      <td>4.000000</td>\n",
       "      <td>4.000000</td>\n",
       "      <td>9.062500</td>\n",
       "      <td>1.000000</td>\n",
       "      <td>0.830000</td>\n",
       "    </tr>\n",
       "    <tr>\n",
       "      <th>max</th>\n",
       "      <td>400.000000</td>\n",
       "      <td>340.000000</td>\n",
       "      <td>120.000000</td>\n",
       "      <td>5.000000</td>\n",
       "      <td>5.000000</td>\n",
       "      <td>5.000000</td>\n",
       "      <td>9.920000</td>\n",
       "      <td>1.000000</td>\n",
       "      <td>0.970000</td>\n",
       "    </tr>\n",
       "  </tbody>\n",
       "</table>\n",
       "</div>"
      ],
      "text/plain": [
       "       Serial No.   GRE Score  TOEFL Score  University Rating         SOP   \n",
       "count  400.000000  400.000000   400.000000         400.000000  400.000000  \\\n",
       "mean   200.500000  316.807500   107.410000           3.087500    3.400000   \n",
       "std    115.614301   11.473646     6.069514           1.143728    1.006869   \n",
       "min      1.000000  290.000000    92.000000           1.000000    1.000000   \n",
       "25%    100.750000  308.000000   103.000000           2.000000    2.500000   \n",
       "50%    200.500000  317.000000   107.000000           3.000000    3.500000   \n",
       "75%    300.250000  325.000000   112.000000           4.000000    4.000000   \n",
       "max    400.000000  340.000000   120.000000           5.000000    5.000000   \n",
       "\n",
       "             LOR         CGPA    Research  Chance of Admit   \n",
       "count  400.000000  400.000000  400.000000        400.000000  \n",
       "mean     3.452500    8.598925    0.547500          0.724350  \n",
       "std      0.898478    0.596317    0.498362          0.142609  \n",
       "min      1.000000    6.800000    0.000000          0.340000  \n",
       "25%      3.000000    8.170000    0.000000          0.640000  \n",
       "50%      3.500000    8.610000    1.000000          0.730000  \n",
       "75%      4.000000    9.062500    1.000000          0.830000  \n",
       "max      5.000000    9.920000    1.000000          0.970000  "
      ]
     },
     "execution_count": 6,
     "metadata": {},
     "output_type": "execute_result"
    }
   ],
   "source": [
    "df.describe()"
   ]
  },
  {
   "cell_type": "code",
   "execution_count": 7,
   "id": "d8abaafa",
   "metadata": {},
   "outputs": [
    {
     "data": {
      "text/plain": [
       "Serial No.           0\n",
       "GRE Score            0\n",
       "TOEFL Score          0\n",
       "University Rating    0\n",
       "SOP                  0\n",
       "LOR                  0\n",
       "CGPA                 0\n",
       "Research             0\n",
       "Chance of Admit      0\n",
       "dtype: int64"
      ]
     },
     "execution_count": 7,
     "metadata": {},
     "output_type": "execute_result"
    }
   ],
   "source": [
    "df.isnull().sum()"
   ]
  },
  {
   "cell_type": "code",
   "execution_count": 8,
   "id": "e95c097e",
   "metadata": {},
   "outputs": [
    {
     "data": {
      "text/plain": [
       "0"
      ]
     },
     "execution_count": 8,
     "metadata": {},
     "output_type": "execute_result"
    }
   ],
   "source": [
    "df.duplicated().sum()"
   ]
  },
  {
   "cell_type": "code",
   "execution_count": 11,
   "id": "0c528900",
   "metadata": {},
   "outputs": [
    {
     "data": {
      "image/png": "[encoded data removed]",
      "text/plain": [
       "<Figure size 432x288 with 1 Axes>"
      ]
     },
     "metadata": {
      "needs_background": "light"
     },
     "output_type": "display_data"
    }
   ],
   "source": [
    "df['GRE Score'].plot(kind='box', title=\"GRE Score Box Plot\")\n",
    "plt.show()"
   ]
  },
  {
   "cell_type": "code",
   "execution_count": 12,
   "id": "95959da7",
   "metadata": {},
   "outputs": [
    {
     "name": "stdout",
     "output_type": "stream",
     "text": [
      "Minimum GRE Score :  290\n",
      "Maximum GRE Score :  340\n",
      "Average GRE Score :  316.8075\n",
      "Std GRE Score :  11.473646113500477\n"
     ]
    }
   ],
   "source": [
    "print(\"Minimum GRE Score : \", df['GRE Score'].min())\n",
    "print(\"Maximum GRE Score : \", df['GRE Score'].max())\n",
    "print(\"Average GRE Score : \", df['GRE Score'].mean())\n",
    "print(\"Std GRE Score : \", df['GRE Score'].std())"
   ]
  },
  {
   "cell_type": "code",
   "execution_count": 13,
   "id": "7f02687e",
   "metadata": {},
   "outputs": [
    {
     "data": {
      "image/png": "[encoded data removed]",
      "text/plain": [
       "<Figure size 432x288 with 1 Axes>"
      ]
     },
     "metadata": {
      "needs_background": "light"
     },
     "output_type": "display_data"
    }
   ],
   "source": [
    "df['TOEFL Score'].plot(kind='kde', title=\"TOEFL Score Kde Plot\")\n",
    "plt.show()"
   ]
  },
  {
   "cell_type": "code",
   "execution_count": 14,
   "id": "2e2662ea",
   "metadata": {},
   "outputs": [
    {
     "data": {
      "image/png": "[encoded data removed]",
      "text/plain": [
       "<Figure size 432x288 with 1 Axes>"
      ]
     },
     "metadata": {
      "needs_background": "light"
     },
     "output_type": "display_data"
    }
   ],
   "source": [
    "df['TOEFL Score'].plot(kind='box', title=\"TOEFL Score Box Plot\")\n",
    "plt.show()"
   ]
  },
  {
   "cell_type": "code",
   "execution_count": 15,
   "id": "071f9556",
   "metadata": {},
   "outputs": [
    {
     "name": "stdout",
     "output_type": "stream",
     "text": [
      "Minimum TOEFL Score :  92\n",
      "Maximum TOEFL Score :  120\n",
      "Average TOEFL Score :  107.41\n",
      "Std TOEFL Score :  6.069513777374129\n"
     ]
    }
   ],
   "source": [
    "print(\"Minimum TOEFL Score : \", df['TOEFL Score'].min())\n",
    "print(\"Maximum TOEFL Score : \", df['TOEFL Score'].max())\n",
    "print(\"Average TOEFL Score : \", df['TOEFL Score'].mean())\n",
    "print(\"Std TOEFL Score : \", df['TOEFL Score'].std())"
   ]
  },
  {
   "cell_type": "code",
   "execution_count": 16,
   "id": "32aea962",
   "metadata": {},
   "outputs": [
    {
     "data": {
      "text/plain": [
       "University Rating\n",
       "3    133\n",
       "2    107\n",
       "4     74\n",
       "5     60\n",
       "1     26\n",
       "Name: count, dtype: int64"
      ]
     },
     "execution_count": 16,
     "metadata": {},
     "output_type": "execute_result"
    }
   ],
   "source": [
    "df['University Rating'].value_counts()"
   ]
  },
  {
   "cell_type": "code",
   "execution_count": 17,
   "id": "0cfc436e",
   "metadata": {},
   "outputs": [
    {
     "data": {
      "image/png": "[encoded data removed]",
      "text/plain": [
       "<Figure size 576x432 with 1 Axes>"
      ]
     },
     "metadata": {},
     "output_type": "display_data"
    }
   ],
   "source": [
    "df['University Rating'].value_counts().plot(kind='pie',autopct='%1.0f%%',figsize=(8,6),\n",
    "                                            title=\"University Rating Count Plot\")\n",
    "plt.show()"
   ]
  },
  {
   "cell_type": "code",
   "execution_count": 20,
   "id": "463a8d24",
   "metadata": {},
   "outputs": [
    {
     "data": {
      "image/png": "[encoded data removed]",
      "text/plain": [
       "<Figure size 576x432 with 1 Axes>"
      ]
     },
     "metadata": {
      "needs_background": "light"
     },
     "output_type": "display_data"
    }
   ],
   "source": [
    "df['University Rating'].value_counts().sort_values().plot(kind='barh',figsize=(8,6),\n",
    "                                            title=\"University Rating Count Plot\")\n",
    "plt.show()"
   ]
  },
  {
   "cell_type": "code",
   "execution_count": 21,
   "id": "2cec0690",
   "metadata": {},
   "outputs": [
    {
     "data": {
      "text/plain": [
       "SOP\n",
       "4.0    70\n",
       "3.5    70\n",
       "3.0    64\n",
       "4.5    53\n",
       "2.5    47\n",
       "5.0    37\n",
       "2.0    33\n",
       "1.5    20\n",
       "1.0     6\n",
       "Name: count, dtype: int64"
      ]
     },
     "execution_count": 21,
     "metadata": {},
     "output_type": "execute_result"
    }
   ],
   "source": [
    "df.SOP.value_counts()"
   ]
  },
  {
   "cell_type": "code",
   "execution_count": 22,
   "id": "5ca84018",
   "metadata": {},
   "outputs": [
    {
     "data": {
      "image/png": "[encoded data removed]",
      "text/plain": [
       "<Figure size 576x432 with 1 Axes>"
      ]
     },
     "metadata": {},
     "output_type": "display_data"
    }
   ],
   "source": [
    "df.SOP.value_counts().value_counts().plot(kind='pie',autopct='%1.0f%%',figsize=(8,6),\n",
    "                                            title=\"SOP Count Plot\")\n",
    "plt.show()"
   ]
  },
  {
   "cell_type": "code",
   "execution_count": 24,
   "id": "b95d8aa7",
   "metadata": {},
   "outputs": [
    {
     "data": {
      "text/plain": [
       "Index(['Serial No.', 'GRE Score', 'TOEFL Score', 'University Rating', 'SOP',\n",
       "       'LOR ', 'CGPA', 'Research', 'Chance of Admit '],\n",
       "      dtype='object')"
      ]
     },
     "execution_count": 24,
     "metadata": {},
     "output_type": "execute_result"
    }
   ],
   "source": [
    "df.columns"
   ]
  },
  {
   "cell_type": "code",
   "execution_count": 25,
   "id": "1ab8733b",
   "metadata": {},
   "outputs": [
    {
     "data": {
      "text/plain": [
       "Index(['SerialNo.', 'GREScore', 'TOEFLScore', 'UniversityRating', 'SOP', 'LOR',\n",
       "       'CGPA', 'Research', 'ChanceofAdmit'],\n",
       "      dtype='object')"
      ]
     },
     "execution_count": 25,
     "metadata": {},
     "output_type": "execute_result"
    }
   ],
   "source": [
    "df.columns = df.columns.str.replace(' ','')\n",
    "df.columns"
   ]
  },
  {
   "cell_type": "code",
   "execution_count": 26,
   "id": "40b0791b",
   "metadata": {},
   "outputs": [
    {
     "data": {
      "image/png": "[encoded data removed]",
      "text/plain": [
       "<Figure size 576x432 with 1 Axes>"
      ]
     },
     "metadata": {},
     "output_type": "display_data"
    }
   ],
   "source": [
    "df.LOR.value_counts().plot(kind='pie',autopct='%1.0f%%',figsize=(8,6),\n",
    "                                            title=\"LOR Count Plot\")\n",
    "plt.show()"
   ]
  },
  {
   "cell_type": "code",
   "execution_count": 27,
   "id": "1ab07baa",
   "metadata": {},
   "outputs": [
    {
     "data": {
      "image/png": "[encoded data removed]",
      "text/plain": [
       "<Figure size 576x432 with 1 Axes>"
      ]
     },
     "metadata": {
      "needs_background": "light"
     },
     "output_type": "display_data"
    }
   ],
   "source": [
    "df.CGPA.plot(kind=\"kde\", figsize=(8,6), title=\"CGPA Distribution Plot\")\n",
    "plt.show()"
   ]
  },
  {
   "cell_type": "code",
   "execution_count": 28,
   "id": "5b9f50de",
   "metadata": {},
   "outputs": [
    {
     "data": {
      "image/png": "[encoded data removed]",
      "text/plain": [
       "<Figure size 576x432 with 1 Axes>"
      ]
     },
     "metadata": {
      "needs_background": "light"
     },
     "output_type": "display_data"
    }
   ],
   "source": [
    "df.CGPA.plot(kind=\"box\", figsize=(8,6), title=\"CGPA BoxPlot\")\n",
    "plt.show()"
   ]
  },
  {
   "cell_type": "code",
   "execution_count": 29,
   "id": "70361e44",
   "metadata": {},
   "outputs": [
    {
     "data": {
      "text/plain": [
       "Research\n",
       "1    219\n",
       "0    181\n",
       "Name: count, dtype: int64"
      ]
     },
     "execution_count": 29,
     "metadata": {},
     "output_type": "execute_result"
    }
   ],
   "source": [
    "df.Research.value_counts()"
   ]
  },
  {
   "cell_type": "code",
   "execution_count": 30,
   "id": "9cca6d2e",
   "metadata": {},
   "outputs": [
    {
     "data": {
      "image/png": "[encoded data removed]",
      "text/plain": [
       "<Figure size 432x288 with 1 Axes>"
      ]
     },
     "metadata": {
      "needs_background": "light"
     },
     "output_type": "display_data"
    }
   ],
   "source": [
    "df.Research.value_counts().plot(kind='bar',title=\"Research Countplot\",color=[\"red\",\"blue\"])\n",
    "plt.show()"
   ]
  },
  {
   "cell_type": "code",
   "execution_count": 31,
   "id": "9e0b0bc2",
   "metadata": {},
   "outputs": [
    {
     "data": {
      "image/png": "[encoded data removed]",
      "text/plain": [
       "<Figure size 576x432 with 1 Axes>"
      ]
     },
     "metadata": {},
     "output_type": "display_data"
    }
   ],
   "source": [
    "df.Research.value_counts().plot(kind='pie', autopct='%1.0f%%',figsize=(8,6) , title=\"Research Pie Chart\")\n",
    "plt.show()"
   ]
  },
  {
   "cell_type": "code",
   "execution_count": 32,
   "id": "815d4a3c",
   "metadata": {},
   "outputs": [
    {
     "data": {
      "image/png": "[encoded data removed]",
      "text/plain": [
       "<Figure size 576x432 with 1 Axes>"
      ]
     },
     "metadata": {
      "needs_background": "light"
     },
     "output_type": "display_data"
    }
   ],
   "source": [
    "df.ChanceofAdmit.plot(kind='kde',figsize=(8,6), title=\"ChanceofAdmit Distribution\")\n",
    "plt.show()"
   ]
  },
  {
   "cell_type": "code",
   "execution_count": 33,
   "id": "69791759",
   "metadata": {},
   "outputs": [
    {
     "data": {
      "image/png": "[encoded data removed]",
      "text/plain": [
       "<Figure size 576x432 with 1 Axes>"
      ]
     },
     "metadata": {
      "needs_background": "light"
     },
     "output_type": "display_data"
    }
   ],
   "source": [
    "df.ChanceofAdmit.plot(kind='box',figsize=(8,6), title=\"ChanceofAdmit Boxplot\")\n",
    "plt.show()"
   ]
  },
  {
   "cell_type": "code",
   "execution_count": 34,
   "id": "758b23cd",
   "metadata": {},
   "outputs": [
    {
     "data": {
      "text/html": [
       "<div>\n",
       "<style scoped>\n",
       "    .dataframe tbody tr th:only-of-type {\n",
       "        vertical-align: middle;\n",
       "    }\n",
       "\n",
       "    .dataframe tbody tr th {\n",
       "        vertical-align: top;\n",
       "    }\n",
       "\n",
       "    .dataframe thead th {\n",
       "        text-align: right;\n",
       "    }\n",
       "</style>\n",
       "<table border=\"1\" class=\"dataframe\">\n",
       "  <thead>\n",
       "    <tr style=\"text-align: right;\">\n",
       "      <th></th>\n",
       "      <th>SerialNo.</th>\n",
       "      <th>GREScore</th>\n",
       "      <th>TOEFLScore</th>\n",
       "      <th>UniversityRating</th>\n",
       "      <th>SOP</th>\n",
       "      <th>LOR</th>\n",
       "      <th>CGPA</th>\n",
       "      <th>Research</th>\n",
       "      <th>ChanceofAdmit</th>\n",
       "    </tr>\n",
       "  </thead>\n",
       "  <tbody>\n",
       "    <tr>\n",
       "      <th>0</th>\n",
       "      <td>1</td>\n",
       "      <td>337</td>\n",
       "      <td>118</td>\n",
       "      <td>4</td>\n",
       "      <td>4.5</td>\n",
       "      <td>4.5</td>\n",
       "      <td>9.65</td>\n",
       "      <td>1</td>\n",
       "      <td>0.92</td>\n",
       "    </tr>\n",
       "    <tr>\n",
       "      <th>1</th>\n",
       "      <td>2</td>\n",
       "      <td>324</td>\n",
       "      <td>107</td>\n",
       "      <td>4</td>\n",
       "      <td>4.0</td>\n",
       "      <td>4.5</td>\n",
       "      <td>8.87</td>\n",
       "      <td>1</td>\n",
       "      <td>0.76</td>\n",
       "    </tr>\n",
       "    <tr>\n",
       "      <th>2</th>\n",
       "      <td>3</td>\n",
       "      <td>316</td>\n",
       "      <td>104</td>\n",
       "      <td>3</td>\n",
       "      <td>3.0</td>\n",
       "      <td>3.5</td>\n",
       "      <td>8.00</td>\n",
       "      <td>1</td>\n",
       "      <td>0.72</td>\n",
       "    </tr>\n",
       "    <tr>\n",
       "      <th>3</th>\n",
       "      <td>4</td>\n",
       "      <td>322</td>\n",
       "      <td>110</td>\n",
       "      <td>3</td>\n",
       "      <td>3.5</td>\n",
       "      <td>2.5</td>\n",
       "      <td>8.67</td>\n",
       "      <td>1</td>\n",
       "      <td>0.80</td>\n",
       "    </tr>\n",
       "    <tr>\n",
       "      <th>4</th>\n",
       "      <td>5</td>\n",
       "      <td>314</td>\n",
       "      <td>103</td>\n",
       "      <td>2</td>\n",
       "      <td>2.0</td>\n",
       "      <td>3.0</td>\n",
       "      <td>8.21</td>\n",
       "      <td>0</td>\n",
       "      <td>0.65</td>\n",
       "    </tr>\n",
       "  </tbody>\n",
       "</table>\n",
       "</div>"
      ],
      "text/plain": [
       "   SerialNo.  GREScore  TOEFLScore  UniversityRating  SOP  LOR  CGPA   \n",
       "0          1       337         118                 4  4.5  4.5  9.65  \\\n",
       "1          2       324         107                 4  4.0  4.5  8.87   \n",
       "2          3       316         104                 3  3.0  3.5  8.00   \n",
       "3          4       322         110                 3  3.5  2.5  8.67   \n",
       "4          5       314         103                 2  2.0  3.0  8.21   \n",
       "\n",
       "   Research  ChanceofAdmit  \n",
       "0         1           0.92  \n",
       "1         1           0.76  \n",
       "2         1           0.72  \n",
       "3         1           0.80  \n",
       "4         0           0.65  "
      ]
     },
     "execution_count": 34,
     "metadata": {},
     "output_type": "execute_result"
    }
   ],
   "source": [
    "#Bivarant Analysis\n",
    "df.head()"
   ]
  },
  {
   "cell_type": "code",
   "execution_count": 36,
   "id": "3aecdb60",
   "metadata": {},
   "outputs": [
    {
     "data": {
      "image/png": "[encoded data removed]",
      "text/plain": [
       "<Figure size 576x432 with 1 Axes>"
      ]
     },
     "metadata": {
      "needs_background": "light"
     },
     "output_type": "display_data"
    }
   ],
   "source": [
    "df.plot(kind=\"scatter\", x='GREScore',figsize=(8,6), y = 'ChanceofAdmit', title=\"GREScore vs ChanceofAdmit\")\n",
    "plt.show()"
   ]
  },
  {
   "cell_type": "code",
   "execution_count": 38,
   "id": "301ebc7b",
   "metadata": {},
   "outputs": [
    {
     "data": {
      "image/png": "[encoded data removed]",
      "text/plain": [
       "<Figure size 576x432 with 1 Axes>"
      ]
     },
     "metadata": {
      "needs_background": "light"
     },
     "output_type": "display_data"
    }
   ],
   "source": [
    "df.plot(kind=\"scatter\", x='TOEFLScore', y = 'ChanceofAdmit',figsize=(8,6), title=\"TOEFLScore vs ChanceofAdmit\")\n",
    "plt.show()"
   ]
  },
  {
   "cell_type": "code",
   "execution_count": 39,
   "id": "6748a994",
   "metadata": {},
   "outputs": [
    {
     "data": {
      "image/png": "[encoded data removed]",
      "text/plain": [
       "<Figure size 576x432 with 1 Axes>"
      ]
     },
     "metadata": {
      "needs_background": "light"
     },
     "output_type": "display_data"
    }
   ],
   "source": [
    "df.plot(kind=\"scatter\", x='CGPA', y = 'ChanceofAdmit', figsize=(8,6), title=\"CGPA vs ChanceofAdmit\")\n",
    "plt.show()"
   ]
  },
  {
   "cell_type": "code",
   "execution_count": 40,
   "id": "1c26c43f",
   "metadata": {},
   "outputs": [
    {
     "data": {
      "image/png": "[encoded data removed]",
      "text/plain": [
       "<Figure size 576x432 with 1 Axes>"
      ]
     },
     "metadata": {
      "needs_background": "light"
     },
     "output_type": "display_data"
    }
   ],
   "source": [
    "df.plot(kind=\"scatter\", x='Research', y = 'ChanceofAdmit',figsize=(8,6), title=\"Research vs ChanceofAdmit\")\n",
    "plt.show()"
   ]
  },
  {
   "cell_type": "code",
   "execution_count": 41,
   "id": "3c47d2f8",
   "metadata": {},
   "outputs": [],
   "source": [
    "#Splitting Data for data modeling\n",
    "from sklearn.model_selection import train_test_split"
   ]
  },
  {
   "cell_type": "code",
   "execution_count": 42,
   "id": "4f90ac0c",
   "metadata": {},
   "outputs": [
    {
     "data": {
      "text/html": [
       "<div>\n",
       "<style scoped>\n",
       "    .dataframe tbody tr th:only-of-type {\n",
       "        vertical-align: middle;\n",
       "    }\n",
       "\n",
       "    .dataframe tbody tr th {\n",
       "        vertical-align: top;\n",
       "    }\n",
       "\n",
       "    .dataframe thead th {\n",
       "        text-align: right;\n",
       "    }\n",
       "</style>\n",
       "<table border=\"1\" class=\"dataframe\">\n",
       "  <thead>\n",
       "    <tr style=\"text-align: right;\">\n",
       "      <th></th>\n",
       "      <th>SerialNo.</th>\n",
       "      <th>GREScore</th>\n",
       "      <th>TOEFLScore</th>\n",
       "      <th>UniversityRating</th>\n",
       "      <th>SOP</th>\n",
       "      <th>LOR</th>\n",
       "      <th>CGPA</th>\n",
       "      <th>Research</th>\n",
       "    </tr>\n",
       "  </thead>\n",
       "  <tbody>\n",
       "    <tr>\n",
       "      <th>0</th>\n",
       "      <td>1</td>\n",
       "      <td>337</td>\n",
       "      <td>118</td>\n",
       "      <td>4</td>\n",
       "      <td>4.5</td>\n",
       "      <td>4.5</td>\n",
       "      <td>9.65</td>\n",
       "      <td>1</td>\n",
       "    </tr>\n",
       "    <tr>\n",
       "      <th>1</th>\n",
       "      <td>2</td>\n",
       "      <td>324</td>\n",
       "      <td>107</td>\n",
       "      <td>4</td>\n",
       "      <td>4.0</td>\n",
       "      <td>4.5</td>\n",
       "      <td>8.87</td>\n",
       "      <td>1</td>\n",
       "    </tr>\n",
       "    <tr>\n",
       "      <th>2</th>\n",
       "      <td>3</td>\n",
       "      <td>316</td>\n",
       "      <td>104</td>\n",
       "      <td>3</td>\n",
       "      <td>3.0</td>\n",
       "      <td>3.5</td>\n",
       "      <td>8.00</td>\n",
       "      <td>1</td>\n",
       "    </tr>\n",
       "    <tr>\n",
       "      <th>3</th>\n",
       "      <td>4</td>\n",
       "      <td>322</td>\n",
       "      <td>110</td>\n",
       "      <td>3</td>\n",
       "      <td>3.5</td>\n",
       "      <td>2.5</td>\n",
       "      <td>8.67</td>\n",
       "      <td>1</td>\n",
       "    </tr>\n",
       "    <tr>\n",
       "      <th>4</th>\n",
       "      <td>5</td>\n",
       "      <td>314</td>\n",
       "      <td>103</td>\n",
       "      <td>2</td>\n",
       "      <td>2.0</td>\n",
       "      <td>3.0</td>\n",
       "      <td>8.21</td>\n",
       "      <td>0</td>\n",
       "    </tr>\n",
       "    <tr>\n",
       "      <th>...</th>\n",
       "      <td>...</td>\n",
       "      <td>...</td>\n",
       "      <td>...</td>\n",
       "      <td>...</td>\n",
       "      <td>...</td>\n",
       "      <td>...</td>\n",
       "      <td>...</td>\n",
       "      <td>...</td>\n",
       "    </tr>\n",
       "    <tr>\n",
       "      <th>395</th>\n",
       "      <td>396</td>\n",
       "      <td>324</td>\n",
       "      <td>110</td>\n",
       "      <td>3</td>\n",
       "      <td>3.5</td>\n",
       "      <td>3.5</td>\n",
       "      <td>9.04</td>\n",
       "      <td>1</td>\n",
       "    </tr>\n",
       "    <tr>\n",
       "      <th>396</th>\n",
       "      <td>397</td>\n",
       "      <td>325</td>\n",
       "      <td>107</td>\n",
       "      <td>3</td>\n",
       "      <td>3.0</td>\n",
       "      <td>3.5</td>\n",
       "      <td>9.11</td>\n",
       "      <td>1</td>\n",
       "    </tr>\n",
       "    <tr>\n",
       "      <th>397</th>\n",
       "      <td>398</td>\n",
       "      <td>330</td>\n",
       "      <td>116</td>\n",
       "      <td>4</td>\n",
       "      <td>5.0</td>\n",
       "      <td>4.5</td>\n",
       "      <td>9.45</td>\n",
       "      <td>1</td>\n",
       "    </tr>\n",
       "    <tr>\n",
       "      <th>398</th>\n",
       "      <td>399</td>\n",
       "      <td>312</td>\n",
       "      <td>103</td>\n",
       "      <td>3</td>\n",
       "      <td>3.5</td>\n",
       "      <td>4.0</td>\n",
       "      <td>8.78</td>\n",
       "      <td>0</td>\n",
       "    </tr>\n",
       "    <tr>\n",
       "      <th>399</th>\n",
       "      <td>400</td>\n",
       "      <td>333</td>\n",
       "      <td>117</td>\n",
       "      <td>4</td>\n",
       "      <td>5.0</td>\n",
       "      <td>4.0</td>\n",
       "      <td>9.66</td>\n",
       "      <td>1</td>\n",
       "    </tr>\n",
       "  </tbody>\n",
       "</table>\n",
       "<p>400 rows × 8 columns</p>\n",
       "</div>"
      ],
      "text/plain": [
       "     SerialNo.  GREScore  TOEFLScore  UniversityRating  SOP  LOR  CGPA   \n",
       "0            1       337         118                 4  4.5  4.5  9.65  \\\n",
       "1            2       324         107                 4  4.0  4.5  8.87   \n",
       "2            3       316         104                 3  3.0  3.5  8.00   \n",
       "3            4       322         110                 3  3.5  2.5  8.67   \n",
       "4            5       314         103                 2  2.0  3.0  8.21   \n",
       "..         ...       ...         ...               ...  ...  ...   ...   \n",
       "395        396       324         110                 3  3.5  3.5  9.04   \n",
       "396        397       325         107                 3  3.0  3.5  9.11   \n",
       "397        398       330         116                 4  5.0  4.5  9.45   \n",
       "398        399       312         103                 3  3.5  4.0  8.78   \n",
       "399        400       333         117                 4  5.0  4.0  9.66   \n",
       "\n",
       "     Research  \n",
       "0           1  \n",
       "1           1  \n",
       "2           1  \n",
       "3           1  \n",
       "4           0  \n",
       "..        ...  \n",
       "395         1  \n",
       "396         1  \n",
       "397         1  \n",
       "398         0  \n",
       "399         1  \n",
       "\n",
       "[400 rows x 8 columns]"
      ]
     },
     "execution_count": 42,
     "metadata": {},
     "output_type": "execute_result"
    }
   ],
   "source": [
    "X = df.iloc[:,:-1]\n",
    "X"
   ]
  },
  {
   "cell_type": "code",
   "execution_count": 43,
   "id": "2f1b1324",
   "metadata": {},
   "outputs": [
    {
     "data": {
      "text/plain": [
       "0      0.92\n",
       "1      0.76\n",
       "2      0.72\n",
       "3      0.80\n",
       "4      0.65\n",
       "       ... \n",
       "395    0.82\n",
       "396    0.84\n",
       "397    0.91\n",
       "398    0.67\n",
       "399    0.95\n",
       "Name: ChanceofAdmit, Length: 400, dtype: float64"
      ]
     },
     "execution_count": 43,
     "metadata": {},
     "output_type": "execute_result"
    }
   ],
   "source": [
    "y = df.iloc[:,-1]\n",
    "y"
   ]
  },
  {
   "cell_type": "code",
   "execution_count": 45,
   "id": "2a53ab5d",
   "metadata": {},
   "outputs": [
    {
     "data": {
      "text/html": [
       "<div>\n",
       "<style scoped>\n",
       "    .dataframe tbody tr th:only-of-type {\n",
       "        vertical-align: middle;\n",
       "    }\n",
       "\n",
       "    .dataframe tbody tr th {\n",
       "        vertical-align: top;\n",
       "    }\n",
       "\n",
       "    .dataframe thead th {\n",
       "        text-align: right;\n",
       "    }\n",
       "</style>\n",
       "<table border=\"1\" class=\"dataframe\">\n",
       "  <thead>\n",
       "    <tr style=\"text-align: right;\">\n",
       "      <th></th>\n",
       "      <th>SerialNo.</th>\n",
       "      <th>GREScore</th>\n",
       "      <th>TOEFLScore</th>\n",
       "      <th>UniversityRating</th>\n",
       "      <th>SOP</th>\n",
       "      <th>LOR</th>\n",
       "      <th>CGPA</th>\n",
       "      <th>Research</th>\n",
       "    </tr>\n",
       "  </thead>\n",
       "  <tbody>\n",
       "    <tr>\n",
       "      <th>3</th>\n",
       "      <td>4</td>\n",
       "      <td>322</td>\n",
       "      <td>110</td>\n",
       "      <td>3</td>\n",
       "      <td>3.5</td>\n",
       "      <td>2.5</td>\n",
       "      <td>8.67</td>\n",
       "      <td>1</td>\n",
       "    </tr>\n",
       "    <tr>\n",
       "      <th>18</th>\n",
       "      <td>19</td>\n",
       "      <td>318</td>\n",
       "      <td>110</td>\n",
       "      <td>3</td>\n",
       "      <td>4.0</td>\n",
       "      <td>3.0</td>\n",
       "      <td>8.80</td>\n",
       "      <td>0</td>\n",
       "    </tr>\n",
       "    <tr>\n",
       "      <th>202</th>\n",
       "      <td>203</td>\n",
       "      <td>340</td>\n",
       "      <td>120</td>\n",
       "      <td>5</td>\n",
       "      <td>4.5</td>\n",
       "      <td>4.5</td>\n",
       "      <td>9.91</td>\n",
       "      <td>1</td>\n",
       "    </tr>\n",
       "    <tr>\n",
       "      <th>250</th>\n",
       "      <td>251</td>\n",
       "      <td>320</td>\n",
       "      <td>104</td>\n",
       "      <td>3</td>\n",
       "      <td>3.0</td>\n",
       "      <td>2.5</td>\n",
       "      <td>8.57</td>\n",
       "      <td>1</td>\n",
       "    </tr>\n",
       "    <tr>\n",
       "      <th>274</th>\n",
       "      <td>275</td>\n",
       "      <td>315</td>\n",
       "      <td>100</td>\n",
       "      <td>1</td>\n",
       "      <td>2.0</td>\n",
       "      <td>2.5</td>\n",
       "      <td>7.95</td>\n",
       "      <td>0</td>\n",
       "    </tr>\n",
       "    <tr>\n",
       "      <th>...</th>\n",
       "      <td>...</td>\n",
       "      <td>...</td>\n",
       "      <td>...</td>\n",
       "      <td>...</td>\n",
       "      <td>...</td>\n",
       "      <td>...</td>\n",
       "      <td>...</td>\n",
       "      <td>...</td>\n",
       "    </tr>\n",
       "    <tr>\n",
       "      <th>71</th>\n",
       "      <td>72</td>\n",
       "      <td>336</td>\n",
       "      <td>112</td>\n",
       "      <td>5</td>\n",
       "      <td>5.0</td>\n",
       "      <td>5.0</td>\n",
       "      <td>9.76</td>\n",
       "      <td>1</td>\n",
       "    </tr>\n",
       "    <tr>\n",
       "      <th>106</th>\n",
       "      <td>107</td>\n",
       "      <td>329</td>\n",
       "      <td>111</td>\n",
       "      <td>4</td>\n",
       "      <td>4.5</td>\n",
       "      <td>4.5</td>\n",
       "      <td>9.18</td>\n",
       "      <td>1</td>\n",
       "    </tr>\n",
       "    <tr>\n",
       "      <th>270</th>\n",
       "      <td>271</td>\n",
       "      <td>306</td>\n",
       "      <td>105</td>\n",
       "      <td>2</td>\n",
       "      <td>2.5</td>\n",
       "      <td>3.0</td>\n",
       "      <td>8.22</td>\n",
       "      <td>1</td>\n",
       "    </tr>\n",
       "    <tr>\n",
       "      <th>348</th>\n",
       "      <td>349</td>\n",
       "      <td>302</td>\n",
       "      <td>99</td>\n",
       "      <td>1</td>\n",
       "      <td>2.0</td>\n",
       "      <td>2.0</td>\n",
       "      <td>7.25</td>\n",
       "      <td>0</td>\n",
       "    </tr>\n",
       "    <tr>\n",
       "      <th>102</th>\n",
       "      <td>103</td>\n",
       "      <td>314</td>\n",
       "      <td>106</td>\n",
       "      <td>2</td>\n",
       "      <td>4.0</td>\n",
       "      <td>3.5</td>\n",
       "      <td>8.25</td>\n",
       "      <td>0</td>\n",
       "    </tr>\n",
       "  </tbody>\n",
       "</table>\n",
       "<p>320 rows × 8 columns</p>\n",
       "</div>"
      ],
      "text/plain": [
       "     SerialNo.  GREScore  TOEFLScore  UniversityRating  SOP  LOR  CGPA   \n",
       "3            4       322         110                 3  3.5  2.5  8.67  \\\n",
       "18          19       318         110                 3  4.0  3.0  8.80   \n",
       "202        203       340         120                 5  4.5  4.5  9.91   \n",
       "250        251       320         104                 3  3.0  2.5  8.57   \n",
       "274        275       315         100                 1  2.0  2.5  7.95   \n",
       "..         ...       ...         ...               ...  ...  ...   ...   \n",
       "71          72       336         112                 5  5.0  5.0  9.76   \n",
       "106        107       329         111                 4  4.5  4.5  9.18   \n",
       "270        271       306         105                 2  2.5  3.0  8.22   \n",
       "348        349       302          99                 1  2.0  2.0  7.25   \n",
       "102        103       314         106                 2  4.0  3.5  8.25   \n",
       "\n",
       "     Research  \n",
       "3           1  \n",
       "18          0  \n",
       "202         1  \n",
       "250         1  \n",
       "274         0  \n",
       "..        ...  \n",
       "71          1  \n",
       "106         1  \n",
       "270         1  \n",
       "348         0  \n",
       "102         0  \n",
       "\n",
       "[320 rows x 8 columns]"
      ]
     },
     "execution_count": 45,
     "metadata": {},
     "output_type": "execute_result"
    }
   ],
   "source": [
    "X_train, X_test, y_train, y_test = train_test_split(X, y, test_size=0.2,random_state=42)\n",
    "X_train"
   ]
  },
  {
   "cell_type": "code",
   "execution_count": 46,
   "id": "1b01c3db",
   "metadata": {},
   "outputs": [],
   "source": [
    "from sklearn.preprocessing import StandardScaler\n",
    "from sklearn.metrics import r2_score, mean_absolute_error"
   ]
  },
  {
   "cell_type": "code",
   "execution_count": 47,
   "id": "5d31ad96",
   "metadata": {},
   "outputs": [
    {
     "data": {
      "text/plain": [
       "array([[-1.76561509,  0.45711129,  0.42466178, ..., -1.05965163,\n",
       "         0.13986648,  0.92761259],\n",
       "       [-1.63287455,  0.1022887 ,  0.42466178, ..., -0.50194025,\n",
       "         0.36110014, -1.07803625],\n",
       "       [-0.00459061,  2.05381293,  2.08593034, ...,  1.17119391,\n",
       "         2.25009529,  0.92761259],\n",
       "       ...,\n",
       "       [ 0.5971665 , -0.96217907, -0.40597251, ..., -0.50194025,\n",
       "        -0.62594237,  0.92761259],\n",
       "       [ 1.2874173 , -1.31700165, -1.40273364, ..., -1.61736302,\n",
       "        -2.27668588, -1.07803625],\n",
       "       [-0.88952753, -0.25253389, -0.23984565, ...,  0.05577114,\n",
       "        -0.57488845, -1.07803625]])"
      ]
     },
     "execution_count": 47,
     "metadata": {},
     "output_type": "execute_result"
    }
   ],
   "source": [
    "scaler = StandardScaler()\n",
    "X_train = scaler.fit_transform(X_train)\n",
    "X_train"
   ]
  },
  {
   "cell_type": "code",
   "execution_count": 48,
   "id": "3185f5a0",
   "metadata": {},
   "outputs": [
    {
     "data": {
      "text/plain": [
       "array([[ 0.05735497, -1.4057073 , -0.57209936, -0.057308  ,  0.12715607,\n",
       "         0.61348253, -0.79612211,  0.92761259],\n",
       "       [ 0.68566019, -0.51865083, -0.90435307, -0.057308  ,  1.10763663,\n",
       "         0.61348253,  0.08881255,  0.92761259],\n",
       "       [-1.50013401,  2.05381293,  1.0891692 ,  1.6892215 ,  0.61739635,\n",
       "         0.61348253,  1.72253809,  0.92761259],\n",
       "       [ 0.06620434,  0.72322823,  0.09240806,  0.81595675,  1.10763663,\n",
       "         0.61348253,  0.80356748,  0.92761259],\n",
       "       [-0.96917186, -1.4057073 , -1.73498736, -0.93057275, -0.36308421,\n",
       "        -0.50194025, -1.2045535 ,  0.92761259],\n",
       "       [-1.04881618,  2.05381293,  1.25529606,  1.6892215 ,  1.10763663,\n",
       "         1.17119391,  1.46726848,  0.92761259],\n",
       "       [ 1.11927928, -1.76052989, -1.90111421, -0.93057275, -0.85332449,\n",
       "        -2.17507441, -1.18753552, -1.07803625],\n",
       "       [-0.96032249, -1.22829601, -1.40273364, -0.057308  , -1.34356476,\n",
       "        -1.05965163, -1.57894893, -1.07803625],\n",
       "       [ 0.56176902, -0.42994518, -0.40597251, -0.93057275, -1.34356476,\n",
       "        -1.05965163, -0.23452896, -1.07803625],\n",
       "       [-0.67714267,  0.54581693,  0.92304235, -0.057308  ,  0.61739635,\n",
       "        -0.50194025,  1.24603481,  0.92761259],\n",
       "       [-1.71251887,  0.54581693,  0.09240806, -0.057308  ,  0.12715607,\n",
       "        -0.50194025,  0.02074066, -1.07803625],\n",
       "       [ 1.4024591 ,  1.52157905,  1.42142291,  0.81595675,  0.61739635,\n",
       "         0.05577114,  1.62043024,  0.92761259],\n",
       "       [-1.29659852, -0.07512259, -0.90435307, -0.057308  , -1.34356476,\n",
       "        -0.50194025, -2.02141626, -1.07803625],\n",
       "       [-1.15500861,  0.36840564,  0.59078863,  1.6892215 ,  1.59787691,\n",
       "         1.7289053 ,  1.46726848,  0.92761259],\n",
       "       [-0.62404646, -0.69606212, -0.40597251,  1.6892215 ,  0.12715607,\n",
       "         0.05577114, -0.04733124, -1.07803625],\n",
       "       [-1.42048969, -0.34123954, -0.07371879, -0.93057275, -0.85332449,\n",
       "        -1.61736302, -0.14943909,  0.92761259],\n",
       "       [ 0.66796145, -0.78476777, -0.73822622, -0.93057275, -0.36308421,\n",
       "         0.05577114, -0.16645706, -1.07803625],\n",
       "       [ 1.53519964, -1.76052989, -1.90111421, -0.93057275, -0.85332449,\n",
       "        -1.61736302, -1.97036234, -1.07803625],\n",
       "       [ 0.2520411 ,  0.19099435, -0.23984565, -0.057308  ,  0.12715607,\n",
       "        -1.05965163, -0.43874465,  0.92761259],\n",
       "       [ 1.61484396,  1.6102847 ,  1.58754977,  1.6892215 ,  1.59787691,\n",
       "         1.7289053 ,  2.09693353,  0.92761259],\n",
       "       [-1.11076176, -1.4057073 , -1.40273364, -0.93057275, -0.36308421,\n",
       "        -1.61736302, -0.62594237, -1.07803625],\n",
       "       [-1.65942266, -0.25253389, -0.40597251, -0.057308  ,  0.12715607,\n",
       "        -1.05965163, -0.48979857, -1.07803625],\n",
       "       [ 1.66794017,  0.1022887 , -0.23984565, -0.057308  , -1.34356476,\n",
       "        -0.50194025,  0.10583053, -1.07803625],\n",
       "       [ 0.60601587, -1.58311859, -1.90111421, -0.93057275, -1.83380504,\n",
       "        -1.61736302, -1.23858944, -1.07803625],\n",
       "       [-1.79216319,  1.78769599,  1.75367663,  0.81595675,  1.10763663,\n",
       "         1.17119391,  1.80762796,  0.92761259],\n",
       "       [ 1.71218702,  0.72322823, -0.07371879, -0.057308  , -0.36308421,\n",
       "         0.05577114,  0.88865735,  0.92761259],\n",
       "       [-0.7833351 , -0.51865083, -0.40597251, -0.057308  ,  0.12715607,\n",
       "        -0.50194025, -0.23452896,  0.92761259],\n",
       "       [ 0.19894488, -1.84923554, -1.40273364, -0.93057275, -0.85332449,\n",
       "        -1.05965163, -0.94928388, -1.07803625],\n",
       "       [ 0.52637154, -0.78476777, -0.73822622, -0.93057275, -0.85332449,\n",
       "         0.61348253, -0.38769073,  0.92761259],\n",
       "       [-0.87182879,  0.81193388,  0.75691549, -0.057308  ,  0.12715607,\n",
       "        -0.50194025,  0.7865495 ,  0.92761259],\n",
       "       [ 1.70333765,  0.63452258,  0.42466178, -0.057308  ,  0.12715607,\n",
       "         0.05577114,  0.76953153,  0.92761259],\n",
       "       [-0.08423493,  1.69899035,  1.75367663,  1.6892215 ,  1.10763663,\n",
       "         1.7289053 ,  1.60341227,  0.92761259],\n",
       "       [ 0.51752217, -0.42994518, -0.57209936, -0.057308  ,  0.12715607,\n",
       "         0.61348253, -0.84717604, -1.07803625],\n",
       "       [-1.28774915, -1.67182424, -1.40273364, -0.93057275,  0.61739635,\n",
       "        -1.61736302, -1.68105678, -1.07803625],\n",
       "       [ 0.26089047, -0.42994518, -0.07371879, -0.93057275, -0.85332449,\n",
       "         0.05577114, -0.5408525 , -1.07803625],\n",
       "       [-0.76563636, -1.58311859, -0.90435307, -0.057308  ,  0.61739635,\n",
       "         0.05577114,  0.0547766 , -1.07803625],\n",
       "       [-0.79218447,  0.27969999,  0.42466178, -0.93057275,  0.61739635,\n",
       "         0.05577114, -0.04733124, -1.07803625],\n",
       "       [ 1.23432108, -0.78476777, -0.23984565, -0.057308  , -0.36308421,\n",
       "        -0.50194025, -0.59190642, -1.07803625],\n",
       "       [-0.39396286, -0.96217907, -0.23984565, -0.93057275, -1.34356476,\n",
       "        -1.05965163, -0.76208616, -1.07803625],\n",
       "       [-0.54440213,  1.34416776,  1.75367663, -0.93057275,  1.10763663,\n",
       "         0.05577114,  1.31410671,  0.92761259],\n",
       "       [ 1.57944648,  0.19099435, -0.40597251, -0.057308  , -0.36308421,\n",
       "         0.05577114,  0.13986648,  0.92761259],\n",
       "       [-1.30544789,  0.27969999, -0.73822622, -0.057308  , -0.36308421,\n",
       "        -0.50194025, -1.51087703, -1.07803625],\n",
       "       [-1.11961113,  0.90063952,  0.75691549, -0.057308  , -0.36308421,\n",
       "        -0.50194025,  0.22495635,  0.92761259],\n",
       "       [-1.57092896,  2.05381293,  2.08593034,  1.6892215 ,  1.10763663,\n",
       "         1.17119391,  1.72253809,  0.92761259],\n",
       "       [-1.06651492,  0.27969999,  0.42466178,  1.6892215 ,  1.59787691,\n",
       "         1.17119391,  1.07585507,  0.92761259],\n",
       "       [ 1.58829585,  0.63452258,  0.42466178,  0.81595675,  1.10763663,\n",
       "         0.61348253,  0.95672924,  0.92761259],\n",
       "       [-0.48245655,  1.96510729,  1.42142291,  0.81595675,  0.61739635,\n",
       "         0.05577114,  2.06289758,  0.92761259],\n",
       "       [-0.19042736, -1.05088471, -0.07371879, -0.93057275, -0.85332449,\n",
       "        -1.05965163, -0.28558288, -1.07803625],\n",
       "       [-1.59747707,  0.98934517,  1.42142291,  1.6892215 ,  1.59787691,\n",
       "         1.7289053 ,  1.55235835,  0.92761259],\n",
       "       [-0.26122232,  0.54581693,  0.92304235,  0.81595675,  0.61739635,\n",
       "         1.17119391,  1.09287304,  0.92761259],\n",
       "       [-1.38509221,  1.07805082,  1.0891692 ,  1.6892215 ,  0.61739635,\n",
       "         1.7289053 ,  1.21199886,  0.92761259],\n",
       "       [ 1.04848433,  0.54581693, -0.57209936, -0.057308  ,  0.61739635,\n",
       "         0.61348253, -0.25154693,  0.92761259],\n",
       "       [ 1.1989236 ,  0.54581693,  0.09240806,  1.6892215 ,  0.61739635,\n",
       "         0.61348253,  0.2589923 ,  0.92761259],\n",
       "       [-1.17270735,  1.34416776,  1.75367663,  1.6892215 ,  1.59787691,\n",
       "         1.7289053 ,  1.79060999,  0.92761259],\n",
       "       [ 1.5175009 , -0.16382824, -0.40597251, -0.93057275, -1.34356476,\n",
       "        -1.05965163, -1.59596691, -1.07803625],\n",
       "       [-1.44703779, -0.87347342,  0.09240806, -0.93057275,  0.61739635,\n",
       "         0.05577114, -1.51087703, -1.07803625],\n",
       "       [ 0.18124614, -0.78476777,  0.25853492, -0.93057275, -0.36308421,\n",
       "         0.61348253, -0.23452896, -1.07803625],\n",
       "       [-0.27007169,  0.45711129,  0.42466178,  0.81595675,  0.61739635,\n",
       "         1.7289053 ,  0.9226933 ,  0.92761259],\n",
       "       [-1.52668212, -1.49441295, -1.73498736, -0.93057275, -0.36308421,\n",
       "        -0.50194025, -0.83015806,  0.92761259],\n",
       "       [-0.44705907,  0.36840564,  0.75691549,  1.6892215 ,  1.59787691,\n",
       "         1.7289053 ,  0.80356748,  0.92761259],\n",
       "       [-0.69484141, -1.4057073 , -0.23984565,  0.81595675, -0.85332449,\n",
       "        -0.50194025, -0.20049301, -1.07803625],\n",
       "       [ 0.80955136, -0.07512259, -1.07047993, -0.93057275, -0.85332449,\n",
       "        -1.61736302, -0.45576263,  0.92761259],\n",
       "       [ 0.46442596, -0.87347342,  0.42466178,  0.81595675,  0.61739635,\n",
       "         1.17119391, -0.37067275, -1.07803625],\n",
       "       [-1.10191239, -1.84923554, -2.06724107, -0.93057275, -0.36308421,\n",
       "        -1.61736302, -1.78316462,  0.92761259],\n",
       "       [-0.8983769 , -0.42994518, -0.40597251, -0.93057275, -0.85332449,\n",
       "        -0.50194025, -0.79612211, -1.07803625],\n",
       "       [-1.51783275,  0.90063952, -0.73822622, -0.057308  ,  0.61739635,\n",
       "         0.61348253, -0.48979857,  0.92761259],\n",
       "       [ 1.32281477, -1.22829601, -1.23660679, -0.93057275, -0.36308421,\n",
       "         0.05577114, -0.89822996,  0.92761259],\n",
       "       [ 0.57946776,  0.90063952,  0.92304235,  0.81595675,  1.10763663,\n",
       "         1.7289053 ,  0.93971127, -1.07803625],\n",
       "       [ 1.69448828,  1.07805082,  0.59078863,  0.81595675,  1.10763663,\n",
       "         0.61348253,  1.09287304,  0.92761259],\n",
       "       [-1.14615924, -0.25253389,  0.09240806,  0.81595675,  1.10763663,\n",
       "         0.61348253,  0.76953153,  0.92761259],\n",
       "       [ 1.03963496,  0.01358305, -0.23984565, -0.057308  ,  0.61739635,\n",
       "         0.05577114, -0.14943909,  0.92761259],\n",
       "       [-0.5532515 ,  1.07805082,  0.42466178, -0.93057275,  0.61739635,\n",
       "        -0.50194025,  0.95672924,  0.92761259],\n",
       "       [-1.74791635,  1.16675646,  1.25529606,  1.6892215 ,  1.10763663,\n",
       "        -0.50194025,  1.28007076,  0.92761259],\n",
       "       [-1.39394158,  0.45711129,  0.42466178,  1.6892215 ,  1.59787691,\n",
       "         0.61348253,  0.87163937,  0.92761259],\n",
       "       [ 1.64139207, -1.84923554, -1.73498736, -0.93057275, -1.83380504,\n",
       "        -1.61736302, -1.34069729, -1.07803625],\n",
       "       [ 0.38478164, -0.07512259, -0.40597251, -0.057308  , -0.36308421,\n",
       "         0.05577114,  0.24197432, -1.07803625],\n",
       "       [ 0.21664362, -0.42994518,  0.42466178, -0.93057275,  0.12715607,\n",
       "        -0.50194025, -0.09838516, -1.07803625],\n",
       "       [ 1.47325405, -1.4057073 , -1.5688605 , -1.8038375 , -1.34356476,\n",
       "        -0.50194025, -0.94928388,  0.92761259],\n",
       "       [-0.23467421,  1.07805082,  1.91980348,  0.81595675,  1.10763663,\n",
       "         1.17119391,  0.97374722,  0.92761259],\n",
       "       [ 0.76530451, -0.34123954,  0.25853492, -0.057308  ,  0.61739635,\n",
       "         0.05577114,  0.70145963, -1.07803625]])"
      ]
     },
     "execution_count": 48,
     "metadata": {},
     "output_type": "execute_result"
    }
   ],
   "source": [
    "X_test = scaler.transform(X_test)\n",
    "X_test"
   ]
  },
  {
   "cell_type": "code",
   "execution_count": 49,
   "id": "51c29846",
   "metadata": {},
   "outputs": [
    {
     "data": {
      "text/plain": [
       "LinearRegression()"
      ]
     },
     "execution_count": 49,
     "metadata": {},
     "output_type": "execute_result"
    }
   ],
   "source": [
    "from sklearn.linear_model import LinearRegression\n",
    "lr = LinearRegression()\n",
    "lr.fit(X_train, y_train)"
   ]
  },
  {
   "cell_type": "code",
   "execution_count": 50,
   "id": "608efc03",
   "metadata": {},
   "outputs": [
    {
     "data": {
      "text/plain": [
       "0.8212241793299223"
      ]
     },
     "execution_count": 50,
     "metadata": {},
     "output_type": "execute_result"
    }
   ],
   "source": [
    "y_pred = lr.predict(X_test)\n",
    "r2_score(y_test, y_pred)"
   ]
  },
  {
   "cell_type": "code",
   "execution_count": null,
   "id": "2fd29941",
   "metadata": {},
   "outputs": [],
   "source": []
  }
 ],
 "metadata": {
  "kernelspec": {
   "display_name": "Python 3",
   "language": "python",
   "name": "python3"
  },
  "language_info": {
   "codemirror_mode": {
    "name": "ipython",
    "version": 3
   },
   "file_extension": ".py",
   "mimetype": "text/x-python",
   "name": "python",
   "nbconvert_exporter": "python",
   "pygments_lexer": "ipython3",
   "version": "3.8.8"
  }
 },
 "nbformat": 4,
 "nbformat_minor": 5
}
